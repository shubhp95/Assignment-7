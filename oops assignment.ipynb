{
 "cells": [
  {
   "cell_type": "markdown",
   "id": "286efa45-3486-4197-9256-2755c6fcdee1",
   "metadata": {},
   "source": [
    "#Ans 1; Abstraction in Object-Oriented Programming (OOP) is a fundamental concept that allows a programmer to focus on the essential characteristics of an object while ignoring the irrelevant details. Essentially, it means defining a class in such a way that it hides the internal workings and complexities and only exposes the necessary functionalities.\n"
   ]
  },
  {
   "cell_type": "code",
   "execution_count": 7,
   "id": "cb33d294-3891-419f-91db-fb3215e37bfa",
   "metadata": {},
   "outputs": [
    {
     "name": "stdout",
     "output_type": "stream",
     "text": [
      "Basic Remote: TV is now ON\n",
      "Basic Remote: Volume increased by 1\n",
      "Basic Remote: Channel changed to next\n"
     ]
    }
   ],
   "source": [
    "#from abc import ABC, abstractmethod\n",
    "class RemoteControl(ABC):\n",
    "    @abstractmethod\n",
    "    def power_on(self):\n",
    "        pass\n",
    "    @abstractmethod\n",
    "    def volume_up(self):\n",
    "        pass\n",
    "    def change_channel(self):\n",
    "        pass\n",
    "class BasicRemote(RemoteControl):\n",
    "    def power_on(self):\n",
    "        return \"Basic Remote: TV is now ON\"\n",
    "    \n",
    "    def volume_up(self):\n",
    "        return \"Basic Remote: Volume increased by 1\"\n",
    "    \n",
    "    def change_channel(self):\n",
    "        return \"Basic Remote: Channel changed to next\"\n",
    "def use_remote(remote: RemoteControl):\n",
    "    print(remote.power_on())\n",
    "    print(remote.volume_up())\n",
    "    print(remote.change_channel())\n",
    "basic_remote = BasicRemote()\n",
    "use_remote(basic_remote)\n",
    "                 "
   ]
  },
  {
   "cell_type": "code",
   "execution_count": null,
   "id": "e87d9c8a-eee7-4e24-a8f0-43212155eaa4",
   "metadata": {},
   "outputs": [],
   "source": [
    "#Imagine you have a Remote Control for a TV. You interact with the remote using buttons like \"Power,\" \n",
    "#\"Volume Up,\" and \"Channel Down.\" You don’t need to know how pressing these buttons sends signals \n",
    "#to the TV or how the TV processes these signals. You only need to know that pressing a button\n",
    "#will perform a specific function."
   ]
  },
  {
   "cell_type": "code",
   "execution_count": 9,
   "id": "08af214e-61ce-4285-b253-d61f22206ff9",
   "metadata": {},
   "outputs": [],
   "source": [
    "#Ans2: Abstraction\n",
    "#Definition: Abstraction focuses on simplifying complex systems by exposing only the essential features and hiding the unnecessary details. It allows you to define what an object does without specifying how it does it.\n",
    "#Encapsulation\n",
    "#Definition: Encapsulation involves bundling the data (attributes) and methods (functions) that operate on the data into a single unit (class) and restricting direct access to some of the object's components. It focuses on protecting the internal state of an object from unintended interference and misuse.\n"
   ]
  },
  {
   "cell_type": "code",
   "execution_count": null,
   "id": "4b853ccc-3cd8-4580-9555-4a919fe561ab",
   "metadata": {},
   "outputs": [],
   "source": [
    "my_sedan = Sedan(\"Toyota Camry\", 2023)\n",
    "print(my_sedan.start_engine()) \n",
    "print(my_sedan.drive())\n",
    "print(my_sedan.stop_engine())\n",
    "print(my_sedan.get_model())\n",
    "my_sedan.set_model(\"Honda Accord\")\n",
    "print(my_sedan.get_model())"
   ]
  },
  {
   "cell_type": "code",
   "execution_count": 18,
   "id": "f3c28543-09e6-4fb7-bfc3-256e8708df48",
   "metadata": {},
   "outputs": [],
   "source": [
    "#Ans3:\n",
    "#The abc module in Python stands for Abstract Base Classes. It provides a framework for defining abstract base classes and enforcing an interface for classes that inherit from these base classes. This module helps ensure that derived classes implement the abstract methods defined in the base class, promoting a cleaner and more reliable design.\n"
   ]
  },
  {
   "cell_type": "code",
   "execution_count": 20,
   "id": "5e27d23a-d8be-4a1b-99d6-24a305d8290a",
   "metadata": {},
   "outputs": [],
   "source": [
    "#Enforce a Consistent Interface\n",
    "#Prevent Instantiation of Abstract Classes\n",
    "#Promote Code Reusability\n",
    "#Support Polymorphism\n"
   ]
  },
  {
   "cell_type": "code",
   "execution_count": 22,
   "id": "34a8f345-c9c5-405a-ad75-397778561cb7",
   "metadata": {},
   "outputs": [],
   "source": [
    "#Ans4:\n",
    "#Abstract Data Types (ADTs)\n",
    "#Use classes to encapsulate data and methods, exposing only the necessary public interface while keeping internal data hidden.\n",
    "#Utilize access modifiers (private, protected, public) to control access to the internal data of a class.\n",
    "#Define abstract classes or interfaces that specify methods without implementation, allowing concrete classes to provide the specific details.\n",
    "#Hide internal implementation details of data structures and algorithms, exposing only essential functionality to the user.\n"
   ]
  },
  {
   "cell_type": "code",
   "execution_count": null,
   "id": "ea8bdd3a-a519-4e35-ae12-6c9a55efc3d8",
   "metadata": {},
   "outputs": [],
   "source": [
    "#Ans5:\n",
    "#No,we cannot create an instance of an abstract class in Python."
   ]
  },
  {
   "cell_type": "code",
   "execution_count": null,
   "id": "eb6ca472-1191-4b55-a72d-681067053e32",
   "metadata": {},
   "outputs": [],
   "source": [
    "#Purpose of Abstract Classes:\n",
    "#Abstract classes are used to define a common interface or blueprint for other classes. \n",
    "#The abstract class itself cannot be used to create objects because it may not have complete implementations for all methods.\n",
    "\n",
    "#Instantiation Restrictions:\n",
    "#Attempting to instantiate an abstract class directly will result in a TypeError. This error occurs because the abstract class may have one or more methods that are not implemented."
   ]
  },
  {
   "cell_type": "code",
   "execution_count": null,
   "id": "a6506961-f927-461c-b6ad-f924a6e68ed8",
   "metadata": {},
   "outputs": [],
   "source": []
  }
 ],
 "metadata": {
  "kernelspec": {
   "display_name": "Python 3 (ipykernel)",
   "language": "python",
   "name": "python3"
  },
  "language_info": {
   "codemirror_mode": {
    "name": "ipython",
    "version": 3
   },
   "file_extension": ".py",
   "mimetype": "text/x-python",
   "name": "python",
   "nbconvert_exporter": "python",
   "pygments_lexer": "ipython3",
   "version": "3.12.4"
  }
 },
 "nbformat": 4,
 "nbformat_minor": 5
}
